{
 "cells": [
  {
   "cell_type": "code",
   "execution_count": 3,
   "metadata": {},
   "outputs": [
    {
     "name": "stdout",
     "output_type": "stream",
     "text": [
      "       default  student      balance       income\n",
      "0            0        0   729.526495  44361.62507\n",
      "1            0        1   817.180407  12106.13470\n",
      "2            0        0  1073.549164  31767.13895\n",
      "3            0        0   529.250605  35704.49394\n",
      "4            0        0   785.655883  38463.49588\n",
      "...        ...      ...          ...          ...\n",
      "9996         0        0   757.962918  19660.72177\n",
      "9997         0        0   845.411989  58636.15698\n",
      "9998         0        0  1569.009053  36669.11236\n",
      "9999         0        1   200.922183  16862.95232\n",
      "10000        0        0   823.636973  34552.64480\n",
      "\n",
      "[10001 rows x 4 columns]\n"
     ]
    },
    {
     "data": {
      "text/html": [
       "<div>\n",
       "<style scoped>\n",
       "    .dataframe tbody tr th:only-of-type {\n",
       "        vertical-align: middle;\n",
       "    }\n",
       "\n",
       "    .dataframe tbody tr th {\n",
       "        vertical-align: top;\n",
       "    }\n",
       "\n",
       "    .dataframe thead th {\n",
       "        text-align: right;\n",
       "    }\n",
       "</style>\n",
       "<table border=\"1\" class=\"dataframe\">\n",
       "  <thead>\n",
       "    <tr style=\"text-align: right;\">\n",
       "      <th></th>\n",
       "      <th>default</th>\n",
       "      <th>student</th>\n",
       "      <th>balance</th>\n",
       "      <th>income</th>\n",
       "    </tr>\n",
       "  </thead>\n",
       "  <tbody>\n",
       "    <tr>\n",
       "      <th>count</th>\n",
       "      <td>10001.000000</td>\n",
       "      <td>10001.000000</td>\n",
       "      <td>10001.000000</td>\n",
       "      <td>10001.000000</td>\n",
       "    </tr>\n",
       "    <tr>\n",
       "      <th>mean</th>\n",
       "      <td>0.033297</td>\n",
       "      <td>0.294371</td>\n",
       "      <td>835.373712</td>\n",
       "      <td>33517.085432</td>\n",
       "    </tr>\n",
       "    <tr>\n",
       "      <th>std</th>\n",
       "      <td>0.179419</td>\n",
       "      <td>0.455782</td>\n",
       "      <td>483.690813</td>\n",
       "      <td>13335.976735</td>\n",
       "    </tr>\n",
       "    <tr>\n",
       "      <th>min</th>\n",
       "      <td>0.000000</td>\n",
       "      <td>0.000000</td>\n",
       "      <td>0.000000</td>\n",
       "      <td>771.967729</td>\n",
       "    </tr>\n",
       "    <tr>\n",
       "      <th>25%</th>\n",
       "      <td>0.000000</td>\n",
       "      <td>0.000000</td>\n",
       "      <td>481.777806</td>\n",
       "      <td>21341.653840</td>\n",
       "    </tr>\n",
       "    <tr>\n",
       "      <th>50%</th>\n",
       "      <td>0.000000</td>\n",
       "      <td>0.000000</td>\n",
       "      <td>823.636973</td>\n",
       "      <td>34552.644800</td>\n",
       "    </tr>\n",
       "    <tr>\n",
       "      <th>75%</th>\n",
       "      <td>0.000000</td>\n",
       "      <td>1.000000</td>\n",
       "      <td>1166.213186</td>\n",
       "      <td>43807.219050</td>\n",
       "    </tr>\n",
       "    <tr>\n",
       "      <th>max</th>\n",
       "      <td>1.000000</td>\n",
       "      <td>1.000000</td>\n",
       "      <td>2654.322576</td>\n",
       "      <td>73554.233500</td>\n",
       "    </tr>\n",
       "  </tbody>\n",
       "</table>\n",
       "</div>"
      ],
      "text/plain": [
       "            default       student       balance        income\n",
       "count  10001.000000  10001.000000  10001.000000  10001.000000\n",
       "mean       0.033297      0.294371    835.373712  33517.085432\n",
       "std        0.179419      0.455782    483.690813  13335.976735\n",
       "min        0.000000      0.000000      0.000000    771.967729\n",
       "25%        0.000000      0.000000    481.777806  21341.653840\n",
       "50%        0.000000      0.000000    823.636973  34552.644800\n",
       "75%        0.000000      1.000000   1166.213186  43807.219050\n",
       "max        1.000000      1.000000   2654.322576  73554.233500"
      ]
     },
     "execution_count": 3,
     "metadata": {},
     "output_type": "execute_result"
    }
   ],
   "source": [
    "import pandas as pd\n",
    "logistics = pd.read_csv(\"Logistics_Data.csv\")\n",
    "print(logistics)\n",
    "logistics.describe()\n"
   ]
  },
  {
   "cell_type": "code",
   "execution_count": null,
   "metadata": {},
   "outputs": [],
   "source": []
  },
  {
   "cell_type": "code",
   "execution_count": 5,
   "metadata": {},
   "outputs": [
    {
     "name": "stdout",
     "output_type": "stream",
     "text": [
      "   GENDER MARITAL STATUS  HEIGHT  WEIGHT  AGE\n",
      "0       F         SINGLE    1.78      65   35\n",
      "1       M         SINGLE    1.52      36   18\n",
      "2       M         SINGLE    1.65      55   45\n",
      "3       F        MARRIED    1.32      56   24\n",
      "4       M        MARRIED    1.36      69   15\n",
      "5       M         SINGLE    1.25      70   48\n",
      "6       F        MARRIED    2.03      54   24\n",
      "7       F        MARRIED    1.58      35   65\n",
      "8       M         SINGLE    1.48      60   24\n",
      "9       F         SINGLE    1.69      54   14\n",
      "10      M         SINGLE    1.56      42   32\n",
      "11      F         SINGLE    1.36      65   54\n",
      "12      F         SINGLE    1.36      54   25\n",
      "13      M        MARRIED    1.36      58   45\n",
      "14      F        MARRIED    1.36      68   34\n",
      "15      M        MARRIED    1.25      70   25\n",
      "16      M        MARRIED    1.88      66   54\n",
      "17      M        MARRIED    1.78      69   65\n",
      "18      F        MARRIED    2.01      54   58\n",
      "19      M        MARRIED    1.23      23   45\n"
     ]
    }
   ],
   "source": [
    "#importing using excel install pip install openpyxl\n",
    "import pandas as pd \n",
    "df = pd.read_excel(\"Data_1.xlsx\")\n",
    "print(df)\n",
    "\n",
    "\n"
   ]
  },
  {
   "cell_type": "code",
   "execution_count": 13,
   "metadata": {},
   "outputs": [
    {
     "data": {
      "image/png": "[encoded data removed]",
      "text/plain": [
       "<Figure size 640x480 with 1 Axes>"
      ]
     },
     "metadata": {},
     "output_type": "display_data"
    }
   ],
   "source": [
    "import pandas as pd \n",
    "import matplotlib.pyplot as plt \n",
    "df = pd.read_csv(\"enhanced_student_habits_performance.csv\")\n",
    "df.describe()\n",
    "plt.hist(df['study_hours_per_day'],bins=20,color='blue', edgecolor = 'black')\n",
    "plt.show()\n",
    "\n"
   ]
  },
  {
   "cell_type": "code",
   "execution_count": 14,
   "metadata": {},
   "outputs": [
    {
     "data": {
      "text/plain": [
       "Index(['student_id', 'age', 'gender', 'major', 'study_hours_per_day',\n",
       "       'social_media_hours', 'netflix_hours', 'part_time_job',\n",
       "       'attendance_percentage', 'sleep_hours', 'diet_quality',\n",
       "       'exercise_frequency', 'parental_education_level', 'internet_quality',\n",
       "       'mental_health_rating', 'extracurricular_participation', 'previous_gpa',\n",
       "       'semester', 'stress_level', 'dropout_risk', 'social_activity',\n",
       "       'screen_time', 'study_environment', 'access_to_tutoring',\n",
       "       'family_income_range', 'parental_support_level', 'motivation_level',\n",
       "       'exam_anxiety_score', 'learning_style', 'time_management_score',\n",
       "       'exam_score'],\n",
       "      dtype='object')"
      ]
     },
     "execution_count": 14,
     "metadata": {},
     "output_type": "execute_result"
    }
   ],
   "source": [
    "df.columns"
   ]
  },
  {
   "cell_type": "code",
   "execution_count": 10,
   "metadata": {},
   "outputs": [
    {
     "ename": "ValueError",
     "evalue": "dtype='numeric' is not compatible with arrays of bytes/strings.Convert your data to numeric values explicitly instead.",
     "output_type": "error",
     "traceback": [
      "\u001b[31m---------------------------------------------------------------------------\u001b[39m",
      "\u001b[31mValueError\u001b[39m                                Traceback (most recent call last)",
      "\u001b[36mCell\u001b[39m\u001b[36m \u001b[39m\u001b[32mIn[10]\u001b[39m\u001b[32m, line 17\u001b[39m\n\u001b[32m     14\u001b[39m y = [\u001b[33m'\u001b[39m\u001b[33mexamscore\u001b[39m\u001b[33m'\u001b[39m]\n\u001b[32m     16\u001b[39m model = LinearRegression()\n\u001b[32m---> \u001b[39m\u001b[32m17\u001b[39m \u001b[43mmodel\u001b[49m\u001b[43m.\u001b[49m\u001b[43mfit\u001b[49m\u001b[43m(\u001b[49m\u001b[43mX\u001b[49m\u001b[43m,\u001b[49m\u001b[43m \u001b[49m\u001b[43my\u001b[49m\u001b[43m)\u001b[49m\n\u001b[32m     19\u001b[39m \u001b[38;5;28mprint\u001b[39m(\u001b[33m\"\u001b[39m\u001b[33mIntercept:\u001b[39m\u001b[33m\"\u001b[39m, model.intercept)\n\u001b[32m     20\u001b[39m \u001b[38;5;28mprint\u001b[39m(\u001b[33m\"\u001b[39m\u001b[33mCoefficient:\u001b[39m\u001b[33m\"\u001b[39m, model.coef)\n",
      "\u001b[36mFile \u001b[39m\u001b[32m~\\AppData\\Local\\Packages\\PythonSoftwareFoundation.Python.3.11_qbz5n2kfra8p0\\LocalCache\\local-packages\\Python311\\site-packages\\sklearn\\base.py:1389\u001b[39m, in \u001b[36m_fit_context.<locals>.decorator.<locals>.wrapper\u001b[39m\u001b[34m(estimator, *args, **kwargs)\u001b[39m\n\u001b[32m   1382\u001b[39m     estimator._validate_params()\n\u001b[32m   1384\u001b[39m \u001b[38;5;28;01mwith\u001b[39;00m config_context(\n\u001b[32m   1385\u001b[39m     skip_parameter_validation=(\n\u001b[32m   1386\u001b[39m         prefer_skip_nested_validation \u001b[38;5;129;01mor\u001b[39;00m global_skip_validation\n\u001b[32m   1387\u001b[39m     )\n\u001b[32m   1388\u001b[39m ):\n\u001b[32m-> \u001b[39m\u001b[32m1389\u001b[39m     \u001b[38;5;28;01mreturn\u001b[39;00m \u001b[43mfit_method\u001b[49m\u001b[43m(\u001b[49m\u001b[43mestimator\u001b[49m\u001b[43m,\u001b[49m\u001b[43m \u001b[49m\u001b[43m*\u001b[49m\u001b[43margs\u001b[49m\u001b[43m,\u001b[49m\u001b[43m \u001b[49m\u001b[43m*\u001b[49m\u001b[43m*\u001b[49m\u001b[43mkwargs\u001b[49m\u001b[43m)\u001b[49m\n",
      "\u001b[36mFile \u001b[39m\u001b[32m~\\AppData\\Local\\Packages\\PythonSoftwareFoundation.Python.3.11_qbz5n2kfra8p0\\LocalCache\\local-packages\\Python311\\site-packages\\sklearn\\linear_model\\_base.py:601\u001b[39m, in \u001b[36mLinearRegression.fit\u001b[39m\u001b[34m(self, X, y, sample_weight)\u001b[39m\n\u001b[32m    597\u001b[39m n_jobs_ = \u001b[38;5;28mself\u001b[39m.n_jobs\n\u001b[32m    599\u001b[39m accept_sparse = \u001b[38;5;28;01mFalse\u001b[39;00m \u001b[38;5;28;01mif\u001b[39;00m \u001b[38;5;28mself\u001b[39m.positive \u001b[38;5;28;01melse\u001b[39;00m [\u001b[33m\"\u001b[39m\u001b[33mcsr\u001b[39m\u001b[33m\"\u001b[39m, \u001b[33m\"\u001b[39m\u001b[33mcsc\u001b[39m\u001b[33m\"\u001b[39m, \u001b[33m\"\u001b[39m\u001b[33mcoo\u001b[39m\u001b[33m\"\u001b[39m]\n\u001b[32m--> \u001b[39m\u001b[32m601\u001b[39m X, y = \u001b[43mvalidate_data\u001b[49m\u001b[43m(\u001b[49m\n\u001b[32m    602\u001b[39m \u001b[43m    \u001b[49m\u001b[38;5;28;43mself\u001b[39;49m\u001b[43m,\u001b[49m\n\u001b[32m    603\u001b[39m \u001b[43m    \u001b[49m\u001b[43mX\u001b[49m\u001b[43m,\u001b[49m\n\u001b[32m    604\u001b[39m \u001b[43m    \u001b[49m\u001b[43my\u001b[49m\u001b[43m,\u001b[49m\n\u001b[32m    605\u001b[39m \u001b[43m    \u001b[49m\u001b[43maccept_sparse\u001b[49m\u001b[43m=\u001b[49m\u001b[43maccept_sparse\u001b[49m\u001b[43m,\u001b[49m\n\u001b[32m    606\u001b[39m \u001b[43m    \u001b[49m\u001b[43my_numeric\u001b[49m\u001b[43m=\u001b[49m\u001b[38;5;28;43;01mTrue\u001b[39;49;00m\u001b[43m,\u001b[49m\n\u001b[32m    607\u001b[39m \u001b[43m    \u001b[49m\u001b[43mmulti_output\u001b[49m\u001b[43m=\u001b[49m\u001b[38;5;28;43;01mTrue\u001b[39;49;00m\u001b[43m,\u001b[49m\n\u001b[32m    608\u001b[39m \u001b[43m    \u001b[49m\u001b[43mforce_writeable\u001b[49m\u001b[43m=\u001b[49m\u001b[38;5;28;43;01mTrue\u001b[39;49;00m\u001b[43m,\u001b[49m\n\u001b[32m    609\u001b[39m \u001b[43m\u001b[49m\u001b[43m)\u001b[49m\n\u001b[32m    611\u001b[39m has_sw = sample_weight \u001b[38;5;129;01mis\u001b[39;00m \u001b[38;5;129;01mnot\u001b[39;00m \u001b[38;5;28;01mNone\u001b[39;00m\n\u001b[32m    612\u001b[39m \u001b[38;5;28;01mif\u001b[39;00m has_sw:\n",
      "\u001b[36mFile \u001b[39m\u001b[32m~\\AppData\\Local\\Packages\\PythonSoftwareFoundation.Python.3.11_qbz5n2kfra8p0\\LocalCache\\local-packages\\Python311\\site-packages\\sklearn\\utils\\validation.py:2961\u001b[39m, in \u001b[36mvalidate_data\u001b[39m\u001b[34m(_estimator, X, y, reset, validate_separately, skip_check_array, **check_params)\u001b[39m\n\u001b[32m   2959\u001b[39m         y = check_array(y, input_name=\u001b[33m\"\u001b[39m\u001b[33my\u001b[39m\u001b[33m\"\u001b[39m, **check_y_params)\n\u001b[32m   2960\u001b[39m     \u001b[38;5;28;01melse\u001b[39;00m:\n\u001b[32m-> \u001b[39m\u001b[32m2961\u001b[39m         X, y = \u001b[43mcheck_X_y\u001b[49m\u001b[43m(\u001b[49m\u001b[43mX\u001b[49m\u001b[43m,\u001b[49m\u001b[43m \u001b[49m\u001b[43my\u001b[49m\u001b[43m,\u001b[49m\u001b[43m \u001b[49m\u001b[43m*\u001b[49m\u001b[43m*\u001b[49m\u001b[43mcheck_params\u001b[49m\u001b[43m)\u001b[49m\n\u001b[32m   2962\u001b[39m     out = X, y\n\u001b[32m   2964\u001b[39m \u001b[38;5;28;01mif\u001b[39;00m \u001b[38;5;129;01mnot\u001b[39;00m no_val_X \u001b[38;5;129;01mand\u001b[39;00m check_params.get(\u001b[33m\"\u001b[39m\u001b[33mensure_2d\u001b[39m\u001b[33m\"\u001b[39m, \u001b[38;5;28;01mTrue\u001b[39;00m):\n",
      "\u001b[36mFile \u001b[39m\u001b[32m~\\AppData\\Local\\Packages\\PythonSoftwareFoundation.Python.3.11_qbz5n2kfra8p0\\LocalCache\\local-packages\\Python311\\site-packages\\sklearn\\utils\\validation.py:1370\u001b[39m, in \u001b[36mcheck_X_y\u001b[39m\u001b[34m(X, y, accept_sparse, accept_large_sparse, dtype, order, copy, force_writeable, force_all_finite, ensure_all_finite, ensure_2d, allow_nd, multi_output, ensure_min_samples, ensure_min_features, y_numeric, estimator)\u001b[39m\n\u001b[32m   1364\u001b[39m     \u001b[38;5;28;01mraise\u001b[39;00m \u001b[38;5;167;01mValueError\u001b[39;00m(\n\u001b[32m   1365\u001b[39m         \u001b[33mf\u001b[39m\u001b[33m\"\u001b[39m\u001b[38;5;132;01m{\u001b[39;00mestimator_name\u001b[38;5;132;01m}\u001b[39;00m\u001b[33m requires y to be passed, but the target y is None\u001b[39m\u001b[33m\"\u001b[39m\n\u001b[32m   1366\u001b[39m     )\n\u001b[32m   1368\u001b[39m ensure_all_finite = _deprecate_force_all_finite(force_all_finite, ensure_all_finite)\n\u001b[32m-> \u001b[39m\u001b[32m1370\u001b[39m X = \u001b[43mcheck_array\u001b[49m\u001b[43m(\u001b[49m\n\u001b[32m   1371\u001b[39m \u001b[43m    \u001b[49m\u001b[43mX\u001b[49m\u001b[43m,\u001b[49m\n\u001b[32m   1372\u001b[39m \u001b[43m    \u001b[49m\u001b[43maccept_sparse\u001b[49m\u001b[43m=\u001b[49m\u001b[43maccept_sparse\u001b[49m\u001b[43m,\u001b[49m\n\u001b[32m   1373\u001b[39m \u001b[43m    \u001b[49m\u001b[43maccept_large_sparse\u001b[49m\u001b[43m=\u001b[49m\u001b[43maccept_large_sparse\u001b[49m\u001b[43m,\u001b[49m\n\u001b[32m   1374\u001b[39m \u001b[43m    \u001b[49m\u001b[43mdtype\u001b[49m\u001b[43m=\u001b[49m\u001b[43mdtype\u001b[49m\u001b[43m,\u001b[49m\n\u001b[32m   1375\u001b[39m \u001b[43m    \u001b[49m\u001b[43morder\u001b[49m\u001b[43m=\u001b[49m\u001b[43morder\u001b[49m\u001b[43m,\u001b[49m\n\u001b[32m   1376\u001b[39m \u001b[43m    \u001b[49m\u001b[43mcopy\u001b[49m\u001b[43m=\u001b[49m\u001b[43mcopy\u001b[49m\u001b[43m,\u001b[49m\n\u001b[32m   1377\u001b[39m \u001b[43m    \u001b[49m\u001b[43mforce_writeable\u001b[49m\u001b[43m=\u001b[49m\u001b[43mforce_writeable\u001b[49m\u001b[43m,\u001b[49m\n\u001b[32m   1378\u001b[39m \u001b[43m    \u001b[49m\u001b[43mensure_all_finite\u001b[49m\u001b[43m=\u001b[49m\u001b[43mensure_all_finite\u001b[49m\u001b[43m,\u001b[49m\n\u001b[32m   1379\u001b[39m \u001b[43m    \u001b[49m\u001b[43mensure_2d\u001b[49m\u001b[43m=\u001b[49m\u001b[43mensure_2d\u001b[49m\u001b[43m,\u001b[49m\n\u001b[32m   1380\u001b[39m \u001b[43m    \u001b[49m\u001b[43mallow_nd\u001b[49m\u001b[43m=\u001b[49m\u001b[43mallow_nd\u001b[49m\u001b[43m,\u001b[49m\n\u001b[32m   1381\u001b[39m \u001b[43m    \u001b[49m\u001b[43mensure_min_samples\u001b[49m\u001b[43m=\u001b[49m\u001b[43mensure_min_samples\u001b[49m\u001b[43m,\u001b[49m\n\u001b[32m   1382\u001b[39m \u001b[43m    \u001b[49m\u001b[43mensure_min_features\u001b[49m\u001b[43m=\u001b[49m\u001b[43mensure_min_features\u001b[49m\u001b[43m,\u001b[49m\n\u001b[32m   1383\u001b[39m \u001b[43m    \u001b[49m\u001b[43mestimator\u001b[49m\u001b[43m=\u001b[49m\u001b[43mestimator\u001b[49m\u001b[43m,\u001b[49m\n\u001b[32m   1384\u001b[39m \u001b[43m    \u001b[49m\u001b[43minput_name\u001b[49m\u001b[43m=\u001b[49m\u001b[33;43m\"\u001b[39;49m\u001b[33;43mX\u001b[39;49m\u001b[33;43m\"\u001b[39;49m\u001b[43m,\u001b[49m\n\u001b[32m   1385\u001b[39m \u001b[43m\u001b[49m\u001b[43m)\u001b[49m\n\u001b[32m   1387\u001b[39m y = _check_y(y, multi_output=multi_output, y_numeric=y_numeric, estimator=estimator)\n\u001b[32m   1389\u001b[39m check_consistent_length(X, y)\n",
      "\u001b[36mFile \u001b[39m\u001b[32m~\\AppData\\Local\\Packages\\PythonSoftwareFoundation.Python.3.11_qbz5n2kfra8p0\\LocalCache\\local-packages\\Python311\\site-packages\\sklearn\\utils\\validation.py:1096\u001b[39m, in \u001b[36mcheck_array\u001b[39m\u001b[34m(array, accept_sparse, accept_large_sparse, dtype, order, copy, force_writeable, force_all_finite, ensure_all_finite, ensure_non_negative, ensure_2d, allow_nd, ensure_min_samples, ensure_min_features, estimator, input_name)\u001b[39m\n\u001b[32m   1093\u001b[39m         \u001b[38;5;28;01mraise\u001b[39;00m \u001b[38;5;167;01mValueError\u001b[39;00m(msg)\n\u001b[32m   1095\u001b[39m \u001b[38;5;28;01mif\u001b[39;00m dtype_numeric \u001b[38;5;129;01mand\u001b[39;00m \u001b[38;5;28mhasattr\u001b[39m(array.dtype, \u001b[33m\"\u001b[39m\u001b[33mkind\u001b[39m\u001b[33m\"\u001b[39m) \u001b[38;5;129;01mand\u001b[39;00m array.dtype.kind \u001b[38;5;129;01min\u001b[39;00m \u001b[33m\"\u001b[39m\u001b[33mUSV\u001b[39m\u001b[33m\"\u001b[39m:\n\u001b[32m-> \u001b[39m\u001b[32m1096\u001b[39m     \u001b[38;5;28;01mraise\u001b[39;00m \u001b[38;5;167;01mValueError\u001b[39;00m(\n\u001b[32m   1097\u001b[39m         \u001b[33m\"\u001b[39m\u001b[33mdtype=\u001b[39m\u001b[33m'\u001b[39m\u001b[33mnumeric\u001b[39m\u001b[33m'\u001b[39m\u001b[33m is not compatible with arrays of bytes/strings.\u001b[39m\u001b[33m\"\u001b[39m\n\u001b[32m   1098\u001b[39m         \u001b[33m\"\u001b[39m\u001b[33mConvert your data to numeric values explicitly instead.\u001b[39m\u001b[33m\"\u001b[39m\n\u001b[32m   1099\u001b[39m     )\n\u001b[32m   1100\u001b[39m \u001b[38;5;28;01mif\u001b[39;00m \u001b[38;5;129;01mnot\u001b[39;00m allow_nd \u001b[38;5;129;01mand\u001b[39;00m array.ndim >= \u001b[32m3\u001b[39m:\n\u001b[32m   1101\u001b[39m     \u001b[38;5;28;01mraise\u001b[39;00m \u001b[38;5;167;01mValueError\u001b[39;00m(\n\u001b[32m   1102\u001b[39m         \u001b[33m\"\u001b[39m\u001b[33mFound array with dim \u001b[39m\u001b[38;5;132;01m%d\u001b[39;00m\u001b[33m. \u001b[39m\u001b[38;5;132;01m%s\u001b[39;00m\u001b[33m expected <= 2.\u001b[39m\u001b[33m\"\u001b[39m\n\u001b[32m   1103\u001b[39m         % (array.ndim, estimator_name)\n\u001b[32m   1104\u001b[39m     )\n",
      "\u001b[31mValueError\u001b[39m: dtype='numeric' is not compatible with arrays of bytes/strings.Convert your data to numeric values explicitly instead."
     ]
    }
   ],
   "source": [
    "import statsmodels.api as sm\n",
    "import pandas as pd \n",
    "import matplotlib.pyplot as plt \n",
    "from sklearn.linear_model import LinearRegression\n",
    "\n",
    "df = pd.read_csv(\"enhanced_student_habits_performance.csv\")\n",
    "df.describe()\n",
    "examscore = df['exam_score']\n",
    "stresslevel = df['stress_level']\n",
    "internet = df['internet_quality']\n",
    "parentalSupport = df['parental_support_level']\n",
    "\n",
    "X = [['stresslevel']]\n",
    "y = ['examscore']\n",
    "\n",
    "model = LinearRegression()\n",
    "model.fit(X, y)\n",
    "\n",
    "print(\"Intercept:\", model.intercept)\n",
    "print(\"Coefficient:\", model.coef)\n",
    "\n",
    "\n",
    "\n",
    "\n",
    "\n",
    "\n",
    "\n"
   ]
  },
  {
   "cell_type": "code",
   "execution_count": null,
   "metadata": {},
   "outputs": [
    {
     "name": "stdout",
     "output_type": "stream",
     "text": [
      "YF.download() has changed argument auto_adjust default to True\n"
     ]
    },
    {
     "name": "stderr",
     "output_type": "stream",
     "text": [
      "[*********************100%***********************]  2 of 2 completed"
     ]
    },
    {
     "name": "stdout",
     "output_type": "stream",
     "text": [
      "Dataset saved as 'stock_prices.csv'\n"
     ]
    },
    {
     "name": "stderr",
     "output_type": "stream",
     "text": [
      "\n"
     ]
    }
   ],
   "source": []
  },
  {
   "cell_type": "code",
   "execution_count": null,
   "metadata": {},
   "outputs": [],
   "source": [
    "import yfinance as yf \n",
    "\n",
    "tickers = [\"AAPL\", \"MSFT\"]\n",
    "start_date = \"2020-01-01\"\n",
    "end_date = \"2023-12-31\"\n",
    "\n",
    "df = yf.download(tickers, start=start_date, end=end_date, interval=\"1mo\")\n",
    "\n",
    "df[\"Close\"].to_csv(\"stock_prices.csv\")\n",
    "print(\"Dataset saved as 'stock_prices.csv'\")\n",
    "\n",
    "\n"
   ]
  },
  {
   "cell_type": "code",
   "execution_count": null,
   "metadata": {},
   "outputs": [
    {
     "data": {
      "text/html": [
       "<div>\n",
       "<style scoped>\n",
       "    .dataframe tbody tr th:only-of-type {\n",
       "        vertical-align: middle;\n",
       "    }\n",
       "\n",
       "    .dataframe tbody tr th {\n",
       "        vertical-align: top;\n",
       "    }\n",
       "\n",
       "    .dataframe thead th {\n",
       "        text-align: right;\n",
       "    }\n",
       "</style>\n",
       "<table border=\"1\" class=\"dataframe\">\n",
       "  <thead>\n",
       "    <tr style=\"text-align: right;\">\n",
       "      <th></th>\n",
       "      <th>Date</th>\n",
       "      <th>AAPL</th>\n",
       "      <th>MSFT</th>\n",
       "    </tr>\n",
       "  </thead>\n",
       "  <tbody>\n",
       "    <tr>\n",
       "      <th>0</th>\n",
       "      <td>2020-01-01</td>\n",
       "      <td>74.835602</td>\n",
       "      <td>162.198898</td>\n",
       "    </tr>\n",
       "    <tr>\n",
       "      <th>1</th>\n",
       "      <td>2020-02-01</td>\n",
       "      <td>66.095001</td>\n",
       "      <td>154.366669</td>\n",
       "    </tr>\n",
       "    <tr>\n",
       "      <th>2</th>\n",
       "      <td>2020-03-01</td>\n",
       "      <td>61.630028</td>\n",
       "      <td>150.680054</td>\n",
       "    </tr>\n",
       "    <tr>\n",
       "      <th>3</th>\n",
       "      <td>2020-04-01</td>\n",
       "      <td>71.205727</td>\n",
       "      <td>171.221680</td>\n",
       "    </tr>\n",
       "    <tr>\n",
       "      <th>4</th>\n",
       "      <td>2020-05-01</td>\n",
       "      <td>77.056297</td>\n",
       "      <td>175.081589</td>\n",
       "    </tr>\n",
       "  </tbody>\n",
       "</table>\n",
       "</div>"
      ],
      "text/plain": [
       "         Date       AAPL        MSFT\n",
       "0  2020-01-01  74.835602  162.198898\n",
       "1  2020-02-01  66.095001  154.366669\n",
       "2  2020-03-01  61.630028  150.680054\n",
       "3  2020-04-01  71.205727  171.221680\n",
       "4  2020-05-01  77.056297  175.081589"
      ]
     },
     "execution_count": 16,
     "metadata": {},
     "output_type": "execute_result"
    }
   ],
   "source": [
    "# library importation\n",
    "import pandas as pd \n",
    "import numpy as np \n",
    "import matplotlib.pyplot as plt \n",
    "\n",
    "# load data \n",
    "df = pd.read_csv(\"stock_prices.csv\")\n",
    "df.head()\n",
    "df['Date'] = pd.to_datetime(df['Date'])\n",
    "print(df['Date'])\n",
    "\n",
    "\n",
    "\n",
    "\n"
   ]
  },
  {
   "cell_type": "code",
   "execution_count": 21,
   "metadata": {},
   "outputs": [
    {
     "name": "stdout",
     "output_type": "stream",
     "text": [
      "0           NaN\n",
      "1    -11.679736\n",
      "2     -6.755387\n",
      "3     15.537392\n",
      "4      8.216433\n",
      "5     15.049253\n",
      "6     16.513157\n",
      "7     21.438010\n",
      "8    -10.090844\n",
      "9     -6.001187\n",
      "10     9.360643\n",
      "11    11.649649\n",
      "12    -0.550128\n",
      "13    -8.108543\n",
      "14     0.884496\n",
      "15     7.621767\n",
      "16    -5.210714\n",
      "17    10.097632\n",
      "18     6.498242\n",
      "19     4.092970\n",
      "20    -6.664046\n",
      "21     5.865734\n",
      "22    10.347126\n",
      "23     7.579642\n",
      "24    -1.571197\n",
      "25    -5.526968\n",
      "26     5.882089\n",
      "27    -9.713090\n",
      "28    -5.588331\n",
      "29    -8.008015\n",
      "30    18.863378\n",
      "31    -3.255163\n",
      "32   -11.975600\n",
      "33    10.955143\n",
      "34    -3.462922\n",
      "35   -12.081645\n",
      "36    11.052127\n",
      "37     2.162295\n",
      "38    12.035676\n",
      "39     2.898724\n",
      "40     4.461356\n",
      "41     9.584371\n",
      "42     1.278539\n",
      "43    -4.367525\n",
      "44    -8.744781\n",
      "45    -0.256980\n",
      "46    11.231475\n",
      "47     1.491775\n",
      "Name: AAPL_return, dtype: float64\n",
      "0             NaN\n",
      "1             NaN\n",
      "2      -50.541978\n",
      "3     -670.827383\n",
      "4      -83.463665\n",
      "5      404.149698\n",
      "6      -93.514849\n",
      "7     1258.017509\n",
      "8     -165.081852\n",
      "9      -42.633342\n",
      "10    -253.311605\n",
      "11     -27.169952\n",
      "12       2.793606\n",
      "13     -95.778769\n",
      "14     834.790166\n",
      "15     311.237139\n",
      "16    -114.243211\n",
      "17    -982.572340\n",
      "18     -40.891155\n",
      "19      15.170625\n",
      "20    -208.005807\n",
      "21    -374.037544\n",
      "22    -101.761735\n",
      "23    -718.009279\n",
      "24    -492.545382\n",
      "25     -47.974515\n",
      "26    -186.725956\n",
      "27    -393.766267\n",
      "28     -79.614062\n",
      "29     160.920200\n",
      "30    -275.256239\n",
      "31    -173.729918\n",
      "32      56.433765\n",
      "33     -96.921089\n",
      "34   -3098.338463\n",
      "35    -157.902878\n",
      "36    -158.046281\n",
      "37     -80.499798\n",
      "38    2343.920223\n",
      "39     -58.580092\n",
      "40       4.567678\n",
      "41     -42.902082\n",
      "42    -134.551386\n",
      "43      79.049836\n",
      "44      42.449329\n",
      "45    -304.651131\n",
      "46      70.402070\n",
      "47    -104.607740\n",
      "Name: MSFT_return, dtype: float64\n"
     ]
    }
   ],
   "source": [
    "# calculating monthly income using percentage change \n",
    "df['AAPL_return'] = df['AAPL'].pct_change()*100\n",
    "print (df['AAPL_return'])\n",
    "df['MSFT_return'] = df['MSFT'].pct_change()*100\n",
    "print (df['MSFT_return'])\n"
   ]
  },
  {
   "cell_type": "code",
   "execution_count": 22,
   "metadata": {},
   "outputs": [
    {
     "data": {
      "text/html": [
       "<div>\n",
       "<style scoped>\n",
       "    .dataframe tbody tr th:only-of-type {\n",
       "        vertical-align: middle;\n",
       "    }\n",
       "\n",
       "    .dataframe tbody tr th {\n",
       "        vertical-align: top;\n",
       "    }\n",
       "\n",
       "    .dataframe thead th {\n",
       "        text-align: right;\n",
       "    }\n",
       "</style>\n",
       "<table border=\"1\" class=\"dataframe\">\n",
       "  <thead>\n",
       "    <tr style=\"text-align: right;\">\n",
       "      <th></th>\n",
       "      <th>Date</th>\n",
       "      <th>AAPL</th>\n",
       "      <th>MSFT</th>\n",
       "      <th>AAPL_return</th>\n",
       "      <th>MSFT_return</th>\n",
       "    </tr>\n",
       "  </thead>\n",
       "  <tbody>\n",
       "    <tr>\n",
       "      <th>2</th>\n",
       "      <td>2020-03-01</td>\n",
       "      <td>61.630028</td>\n",
       "      <td>-2.388220</td>\n",
       "      <td>-6.755387</td>\n",
       "      <td>-50.541978</td>\n",
       "    </tr>\n",
       "    <tr>\n",
       "      <th>3</th>\n",
       "      <td>2020-04-01</td>\n",
       "      <td>71.205727</td>\n",
       "      <td>13.632611</td>\n",
       "      <td>15.537392</td>\n",
       "      <td>-670.827383</td>\n",
       "    </tr>\n",
       "    <tr>\n",
       "      <th>4</th>\n",
       "      <td>2020-05-01</td>\n",
       "      <td>77.056297</td>\n",
       "      <td>2.254334</td>\n",
       "      <td>8.216433</td>\n",
       "      <td>-83.463665</td>\n",
       "    </tr>\n",
       "    <tr>\n",
       "      <th>5</th>\n",
       "      <td>2020-06-01</td>\n",
       "      <td>88.652695</td>\n",
       "      <td>11.365220</td>\n",
       "      <td>15.049253</td>\n",
       "      <td>404.149698</td>\n",
       "    </tr>\n",
       "    <tr>\n",
       "      <th>6</th>\n",
       "      <td>2020-07-01</td>\n",
       "      <td>103.292053</td>\n",
       "      <td>0.737052</td>\n",
       "      <td>16.513157</td>\n",
       "      <td>-93.514849</td>\n",
       "    </tr>\n",
       "  </tbody>\n",
       "</table>\n",
       "</div>"
      ],
      "text/plain": [
       "         Date        AAPL       MSFT  AAPL_return  MSFT_return\n",
       "2  2020-03-01   61.630028  -2.388220    -6.755387   -50.541978\n",
       "3  2020-04-01   71.205727  13.632611    15.537392  -670.827383\n",
       "4  2020-05-01   77.056297   2.254334     8.216433   -83.463665\n",
       "5  2020-06-01   88.652695  11.365220    15.049253   404.149698\n",
       "6  2020-07-01  103.292053   0.737052    16.513157   -93.514849"
      ]
     },
     "execution_count": 22,
     "metadata": {},
     "output_type": "execute_result"
    }
   ],
   "source": [
    "# drop missing values \n",
    "df = df.dropna()\n",
    "df.head()"
   ]
  },
  {
   "cell_type": "code",
   "execution_count": 23,
   "metadata": {},
   "outputs": [
    {
     "name": "stdout",
     "output_type": "stream",
     "text": [
      "summary statistics:\n",
      "          Metrics      AAPL        MSFT\n",
      "0  mean return(%)  2.711218  -94.012085\n",
      "1     Risk(std %)  8.888564  671.148606\n",
      "2   starpe ratio*  0.305023   -0.140076\n"
     ]
    }
   ],
   "source": [
    "#summary statistics \n",
    "summary = pd.DataFrame({\n",
    "    'Metrics':['mean return(%)', 'Risk(std %)', 'starpe ratio*'],\n",
    "    'AAPL':[\n",
    "        df['AAPL_return'].mean(),\n",
    "        df['AAPL_return'].std(),\n",
    "        df['AAPL_return'].mean()/df['AAPL_return'].std()\n",
    "    ],\n",
    "    'MSFT':[\n",
    "        df['MSFT_return'].mean(),\n",
    "        df['MSFT_return'].std(),\n",
    "        df['MSFT_return'].mean()/df['MSFT_return'].std()\n",
    "    ]\n",
    "})\n",
    "\n",
    "print(\"summary statistics:\")\n",
    "print(summary)"
   ]
  },
  {
   "cell_type": "code",
   "execution_count": 25,
   "metadata": {},
   "outputs": [
    {
     "data": {
      "image/png": "[encoded data removed]",
      "text/plain": [
       "<Figure size 640x480 with 1 Axes>"
      ]
     },
     "metadata": {},
     "output_type": "display_data"
    }
   ],
   "source": [
    "#ploting the return\n",
    "\n",
    "plt.Figure(figsize=(12,6))\n",
    "plt.plot(df['Date'], df['AAPL_return'], label = 'APPLE', marker= 'o')\n",
    "plt.plot(df['Date'], df['MSFT_return'], label = 'MSFT', marker= 'x')\n",
    "plt.show()"
   ]
  },
  {
   "cell_type": "code",
   "execution_count": 27,
   "metadata": {},
   "outputs": [
    {
     "data": {
      "image/png": "[encoded data removed]",
      "text/plain": [
       "<Figure size 640x480 with 1 Axes>"
      ]
     },
     "metadata": {},
     "output_type": "display_data"
    }
   ],
   "source": [
    "#ploting the histogram of the return \n",
    "plt.Figure(figsize=(10,6))\n",
    "plt.hist(df['AAPL_return'], bins=  15 , alpha = 0.5, label='APPLE',edgecolor = 'black')\n",
    "plt.hist(df['MSFT_return'], bins=  15 , alpha = 0.5, label='MSFT',edgecolor = 'black')\n",
    "plt.show()\n"
   ]
  }
 ],
 "metadata": {
  "kernelspec": {
   "display_name": "Python 3",
   "language": "python",
   "name": "python3"
  },
  "language_info": {
   "codemirror_mode": {
    "name": "ipython",
    "version": 3
   },
   "file_extension": ".py",
   "mimetype": "text/x-python",
   "name": "python",
   "nbconvert_exporter": "python",
   "pygments_lexer": "ipython3",
   "version": "3.11.9"
  }
 },
 "nbformat": 4,
 "nbformat_minor": 2
}
